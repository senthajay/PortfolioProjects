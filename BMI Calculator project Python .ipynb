{
 "cells": [
  {
   "cell_type": "markdown",
   "id": "c96c68ce",
   "metadata": {},
   "source": [
    "# BMI Calculator \n"
   ]
  },
  {
   "cell_type": "code",
   "execution_count": 9,
   "id": "f8264fcd",
   "metadata": {},
   "outputs": [
    {
     "name": "stdout",
     "output_type": "stream",
     "text": [
      "Enter your name:Senthamil\n",
      "Enter the weight in pounds:132\n",
      "Enter the height in inches:61\n",
      "24.938457403923678\n",
      "Senthamil,You are Overweight\tIncreased\n"
     ]
    }
   ],
   "source": [
    "Name = input(\"Enter your name:\")\n",
    "\n",
    "weight = int(input(\"Enter the weight in pounds:\"))\n",
    "\n",
    "height = int(input(\"Enter the height in inches:\"))\n",
    "\n",
    "BMI = (weight * 703) / (height * height)\n",
    "\n",
    "print(BMI)\n",
    "\n",
    "\n",
    "if BMI>0:\n",
    "    if BMI <18.5:\n",
    "        print(Name+\", \"+\"You are Underweight Minimal \")\n",
    "    elif BMI <= 24.9:\n",
    "        print(Name+\",\"+  \"You are Normal Weight\tMinimal\")\n",
    "    elif BMI <=29.9:\n",
    "        print(Name+ \",\"+ \"You are Overweight\tIncreased\")\n",
    "    elif BMI <= 34.9:\n",
    "        print(Name+ \",\"+ \"You are Obese\tHigh \")\n",
    "    elif BMI <=39.9:\n",
    "        print(Name+ \",\"+ \"You are Severely Obese\tVery High\")\n",
    "    elif BMI <= 40:\n",
    "        print(Name+ \",\"+ \"you are Morbidly Obese\tExtremely High\")\n",
    "else:\n",
    "    print(\"Enter a valid input\")\n",
    "        \n",
    "\n",
    "\n",
    "\n",
    "\n",
    "\n"
   ]
  },
  {
   "cell_type": "code",
   "execution_count": null,
   "id": "bf85e7d7",
   "metadata": {},
   "outputs": [],
   "source": []
  },
  {
   "cell_type": "code",
   "execution_count": null,
   "id": "ba0533ba",
   "metadata": {},
   "outputs": [],
   "source": []
  },
  {
   "cell_type": "code",
   "execution_count": null,
   "id": "c434bebc",
   "metadata": {},
   "outputs": [],
   "source": []
  },
  {
   "cell_type": "code",
   "execution_count": null,
   "id": "d182008a",
   "metadata": {},
   "outputs": [],
   "source": [
    "### BMI calculation Formula ##############\n",
    "\n",
    "###BMI = (weight * 703) / (height * height)##\n",
    "\n",
    "##### Ranges of weight #####\n",
    "\n",
    "#(Under 18.5\tUnderweight\tMinimal\n",
    "#18.5 - 24.9\tNormal Weight\tMinimal\n",
    "#25 - 29.9\tOverweight\tIncreased\n",
    "#30 - 34.9\tObese\tHigh\n",
    "##35 - 39.9\tSeverely Obese\tVery High\n",
    "#40 and over\tMorbidly Obese\tExtremely High #)"
   ]
  },
  {
   "cell_type": "code",
   "execution_count": null,
   "id": "98604f3f",
   "metadata": {},
   "outputs": [],
   "source": []
  }
 ],
 "metadata": {
  "kernelspec": {
   "display_name": "Python 3 (ipykernel)",
   "language": "python",
   "name": "python3"
  },
  "language_info": {
   "codemirror_mode": {
    "name": "ipython",
    "version": 3
   },
   "file_extension": ".py",
   "mimetype": "text/x-python",
   "name": "python",
   "nbconvert_exporter": "python",
   "pygments_lexer": "ipython3",
   "version": "3.11.5"
  }
 },
 "nbformat": 4,
 "nbformat_minor": 5
}
