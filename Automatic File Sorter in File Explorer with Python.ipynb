{
 "cells": [
  {
   "cell_type": "markdown",
   "id": "75ff42fd",
   "metadata": {},
   "source": [
    "# Automatic File Sorter in File Explorer with Python"
   ]
  },
  {
   "cell_type": "code",
   "execution_count": 7,
   "id": "8ad42c81",
   "metadata": {},
   "outputs": [],
   "source": [
    "import os, shutil\n",
    "\n",
    "path = \"D:/PythonTutorialData/\"\n",
    "\n",
    "file_name = os.listdir(path)"
   ]
  },
  {
   "cell_type": "code",
   "execution_count": 6,
   "id": "f2f67034",
   "metadata": {},
   "outputs": [],
   "source": [
    "folder_names = [\"csv files\",\"image files\",\"text files\"]\n",
    "\n",
    "for items in range(0,3):\n",
    "    if not os.path.exists(path + folder_names[items]):\n",
    "        print(path + folder_names[items])\n",
    "        os.makedirs(path + folder_names[items])\n",
    "        \n",
    "for file in file_name:\n",
    "    if \".csv\" in file and not os.path.exists(path + \"csv files/\"+ file):\n",
    "        shutil.move(path + file, path + \"csv files/\"+ file )\n",
    "    if \".jpg\" in file and not os.path.exists(path + \"image files/\"+ file):\n",
    "        shutil.move(path + file, path + \"image files/\"+ file )\n",
    "    if \".txt\" in file and not os.path.exists(path + \"text files/\"+ file):\n",
    "        shutil.move(path + file, path + \"text files/\"+ file )\n",
    "        \n",
    "        "
   ]
  },
  {
   "cell_type": "code",
   "execution_count": 5,
   "id": "9466243e",
   "metadata": {},
   "outputs": [],
   "source": [
    "\n",
    "    "
   ]
  },
  {
   "cell_type": "code",
   "execution_count": null,
   "id": "ad704c3c",
   "metadata": {},
   "outputs": [],
   "source": []
  }
 ],
 "metadata": {
  "kernelspec": {
   "display_name": "Python 3 (ipykernel)",
   "language": "python",
   "name": "python3"
  },
  "language_info": {
   "codemirror_mode": {
    "name": "ipython",
    "version": 3
   },
   "file_extension": ".py",
   "mimetype": "text/x-python",
   "name": "python",
   "nbconvert_exporter": "python",
   "pygments_lexer": "ipython3",
   "version": "3.11.5"
  }
 },
 "nbformat": 4,
 "nbformat_minor": 5
}
